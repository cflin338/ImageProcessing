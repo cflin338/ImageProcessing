{
 "cells": [
  {
   "cell_type": "code",
   "execution_count": 8,
   "id": "92da2c2d",
   "metadata": {},
   "outputs": [],
   "source": [
    "import numpy as np\n",
    "import matplotlib.pyplot as plt\n",
    "import scipy"
   ]
  },
  {
   "cell_type": "code",
   "execution_count": 14,
   "id": "5f3bf6c8",
   "metadata": {},
   "outputs": [],
   "source": [
    "#righthanded derive f'(x) = lim [f(x+dx) - f(x)] / dx\n",
    "#righthanded taylor expansion f(x+dx) = f(x) + dx * f'(x) + dx^2/2! * f''(x)  + ...\n",
    "#   ->\n",
    "#      righthanded derivative :[f(x+dx) - f(x)] / dx = f'(x) + O(dx); dx/2 * f''(e) measure of error by difference quotatient\n",
    "#      :error measurement dependent on size of f'', or smoothness\n",
    "#      :focus on part of error we can control so say error term is of order dx, O(dx)\n",
    "#for expansion on other side...\n",
    "#      lefthanded taylor expansion :f(x-dx) = f(x) - dx*f'(x) + dx^2/2! * f''(x) - dx^3/3! * f'''(x) + ...\n",
    "#combine to get central diff approx: [f(x+dx) - f(x-dx)] / (2dx) = f'(x) + dx^2/3! * f'''(e)\n",
    "#      :error term is O(dx^2), converges more rapidly as dx->0\n",
    "#2deriv approx\n",
    "#      :[f(x+dx) - 2f(x) + f(x-dx)]/dx^2 = f''(x) + 1/12*dx^2f''''(e)\n",
    "\n",
    "#heat equation\n",
    "#    :du/dt = a^2 * du^2/dx^2, 0<x<1, t>0\n",
    "#    :bc u(0,t) = 0 u(X,t) = 0\n",
    "#    :ic u(x,0) = f(x)\n",
    "\n",
    "#divide spatial interbal [0,1] into N+1 parts\n",
    "#divide temporal interval [0,T] into M+1 parts\n",
    "\n",
    "#method of finite differences: replace derivatives with difference quotients\n",
    "#replacing diffeq and rearranging:\n",
    "#    u(x, t+dt) = u(x,t) + a^2 * (dt/dx^2) * [u(x+dx, t) - 2*u(x,t) + u(x-dx,t)]\n",
    "#    \n",
    "\n",
    "#example\n",
    "#choose alpha = 1/2\n",
    "#X = 2\n",
    "#t = 100\n",
    "#\n",
    "alpha = 1/2\n",
    "ic = lambda x: 2*np.sin(np.pi*x/2) - np.sin(np.pi*x) + 4*np.sin(2*np.pi*x)\n",
    "\n",
    "M = 100\n",
    "T = 10#1\n",
    "dt = T/(M)\n",
    "\n",
    "N = 100\n",
    "X = 2#1\n",
    "dx = X/(N)\n",
    "\n",
    "constant = dt / dx**2\n",
    "\n",
    "#TemporalRange = np.arange(0,T+dt, dt)\n",
    "#SpatialRange = np.arange(0,X+dx, dx)\n",
    "\n",
    "X,Y = np.mgrid[0:T+dt:dt, 0:X+dx:dx]\n",
    "\n",
    "#3D surface plots\n",
    "#fig,ax = plt.subplots(subplot_kw = {'projection':'3d'})\n",
    "#surf = ax.plot_surface(x, y, z, cmap = cm.coolwarm, linewidth = 0, )\n",
    "#fig.colorbar()\n",
    "#plt.show()\n",
    "\n",
    "u = np.zeros(X.shape)\n",
    "\n",
    "#setting IC values\n",
    "for m in range(1,N):\n",
    "    u[0,m] = ic(m*dx)\n",
    "\n",
    "#setting BC values\n",
    "for k in range(0,M+1):\n",
    "    u[k,0] = 0\n",
    "    u[k,N] = 0\n",
    "\n",
    "for k in range(1,M): #time step, M to not reach boundaries\n",
    "    for n in range(1,N): #spatial step, N to not reach boundaries\n",
    "        u[k, n] = u[k-1,n] + alpha**2 * constant * (u[k-1,n+1] - 2 * u[k-1, n] + u[k-1, n-1])\n",
    "        \n",
    "#bc = 0 for all time\n",
    "#\n",
    "\n"
   ]
  },
  {
   "cell_type": "code",
   "execution_count": 15,
   "id": "63a948f8",
   "metadata": {},
   "outputs": [
    {
     "name": "stdout",
     "output_type": "stream",
     "text": [
      "[[ 0.00000000e+000  5.01363933e-001  9.95007354e-001 ... -7.43845276e-001\n",
      "  -3.75720897e-001  0.00000000e+000]\n",
      " [ 0.00000000e+000  1.88319570e-002  3.76790646e-002 ...  1.97991348e-001\n",
      "   9.90614226e-002  0.00000000e+000]\n",
      " [ 0.00000000e+000  1.97788711e-002  3.96421670e-002 ...  1.81492105e-001\n",
      "   9.08428503e-002  0.00000000e+000]\n",
      " ...\n",
      " [ 0.00000000e+000  3.52814576e+217 -6.82839132e+217 ... -2.03884307e+218\n",
      "   1.13579780e+218  0.00000000e+000]\n",
      " [ 0.00000000e+000 -8.64264532e+219  1.67275976e+220 ...  4.79510472e+220\n",
      "  -2.68266619e+220  0.00000000e+000]\n",
      " [ 0.00000000e+000  0.00000000e+000  0.00000000e+000 ...  0.00000000e+000\n",
      "   0.00000000e+000  0.00000000e+000]]\n",
      "(101, 101)\n"
     ]
    },
    {
     "data": {
      "text/plain": [
       "<matplotlib.image.AxesImage at 0x218d52b6470>"
      ]
     },
     "execution_count": 15,
     "metadata": {},
     "output_type": "execute_result"
    },
    {
     "data": {
      "image/png": "[encoded data removed]",
      "text/plain": [
       "<Figure size 432x288 with 1 Axes>"
      ]
     },
     "metadata": {
      "needs_background": "light"
     },
     "output_type": "display_data"
    }
   ],
   "source": [
    "print(u)\n",
    "print(u.shape)\n",
    "plt.imshow(u)"
   ]
  },
  {
   "cell_type": "code",
   "execution_count": null,
   "id": "7cc9521e",
   "metadata": {},
   "outputs": [],
   "source": []
  }
 ],
 "metadata": {
  "kernelspec": {
   "display_name": "Python 3 (ipykernel)",
   "language": "python",
   "name": "python3"
  },
  "language_info": {
   "codemirror_mode": {
    "name": "ipython",
    "version": 3
   },
   "file_extension": ".py",
   "mimetype": "text/x-python",
   "name": "python",
   "nbconvert_exporter": "python",
   "pygments_lexer": "ipython3",
   "version": "3.10.4"
  }
 },
 "nbformat": 4,
 "nbformat_minor": 5
}
